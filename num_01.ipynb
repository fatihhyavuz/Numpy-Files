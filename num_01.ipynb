{
 "cells": [
  {
   "cell_type": "code",
   "execution_count": 1,
   "metadata": {},
   "outputs": [],
   "source": [
    "import numpy as np"
   ]
  },
  {
   "cell_type": "code",
   "execution_count": 2,
   "metadata": {},
   "outputs": [
    {
     "data": {
      "text/plain": [
       "['ALLOW_THREADS',\n",
       " 'BUFSIZE',\n",
       " 'CLIP',\n",
       " 'DataSource',\n",
       " 'ERR_CALL',\n",
       " 'ERR_DEFAULT',\n",
       " 'ERR_IGNORE',\n",
       " 'ERR_LOG',\n",
       " 'ERR_PRINT',\n",
       " 'ERR_RAISE',\n",
       " 'ERR_WARN',\n",
       " 'FLOATING_POINT_SUPPORT',\n",
       " 'FPE_DIVIDEBYZERO',\n",
       " 'FPE_INVALID',\n",
       " 'FPE_OVERFLOW',\n",
       " 'FPE_UNDERFLOW',\n",
       " 'False_',\n",
       " 'Inf',\n",
       " 'Infinity',\n",
       " 'MAXDIMS',\n",
       " 'MAY_SHARE_BOUNDS',\n",
       " 'MAY_SHARE_EXACT',\n",
       " 'NAN',\n",
       " 'NINF',\n",
       " 'NZERO',\n",
       " 'NaN',\n",
       " 'PINF',\n",
       " 'PZERO',\n",
       " 'RAISE',\n",
       " 'RankWarning',\n",
       " 'SHIFT_DIVIDEBYZERO',\n",
       " 'SHIFT_INVALID',\n",
       " 'SHIFT_OVERFLOW',\n",
       " 'SHIFT_UNDERFLOW',\n",
       " 'ScalarType',\n",
       " 'True_',\n",
       " 'UFUNC_BUFSIZE_DEFAULT',\n",
       " 'UFUNC_PYVALS_NAME',\n",
       " 'WRAP',\n",
       " '_CopyMode',\n",
       " '_NoValue',\n",
       " '_UFUNC_API',\n",
       " '__NUMPY_SETUP__',\n",
       " '__all__',\n",
       " '__builtins__',\n",
       " '__cached__',\n",
       " '__config__',\n",
       " '__deprecated_attrs__',\n",
       " '__dir__',\n",
       " '__doc__',\n",
       " '__expired_functions__',\n",
       " '__file__',\n",
       " '__former_attrs__',\n",
       " '__future_scalars__',\n",
       " '__getattr__',\n",
       " '__loader__',\n",
       " '__name__',\n",
       " '__package__',\n",
       " '__path__',\n",
       " '__spec__',\n",
       " '__version__',\n",
       " '_add_newdoc_ufunc',\n",
       " '_builtins',\n",
       " '_distributor_init',\n",
       " '_financial_names',\n",
       " '_get_promotion_state',\n",
       " '_globals',\n",
       " '_int_extended_msg',\n",
       " '_mat',\n",
       " '_no_nep50_warning',\n",
       " '_pyinstaller_hooks_dir',\n",
       " '_pytesttester',\n",
       " '_set_promotion_state',\n",
       " '_specific_msg',\n",
       " '_typing',\n",
       " '_using_numpy2_behavior',\n",
       " '_utils',\n",
       " 'abs',\n",
       " 'absolute',\n",
       " 'add',\n",
       " 'add_docstring',\n",
       " 'add_newdoc',\n",
       " 'add_newdoc_ufunc',\n",
       " 'all',\n",
       " 'allclose',\n",
       " 'alltrue',\n",
       " 'amax',\n",
       " 'amin',\n",
       " 'angle',\n",
       " 'any',\n",
       " 'append',\n",
       " 'apply_along_axis',\n",
       " 'apply_over_axes',\n",
       " 'arange',\n",
       " 'arccos',\n",
       " 'arccosh',\n",
       " 'arcsin',\n",
       " 'arcsinh',\n",
       " 'arctan',\n",
       " 'arctan2',\n",
       " 'arctanh',\n",
       " 'argmax',\n",
       " 'argmin',\n",
       " 'argpartition',\n",
       " 'argsort',\n",
       " 'argwhere',\n",
       " 'around',\n",
       " 'array',\n",
       " 'array2string',\n",
       " 'array_equal',\n",
       " 'array_equiv',\n",
       " 'array_repr',\n",
       " 'array_split',\n",
       " 'array_str',\n",
       " 'asanyarray',\n",
       " 'asarray',\n",
       " 'asarray_chkfinite',\n",
       " 'ascontiguousarray',\n",
       " 'asfarray',\n",
       " 'asfortranarray',\n",
       " 'asmatrix',\n",
       " 'atleast_1d',\n",
       " 'atleast_2d',\n",
       " 'atleast_3d',\n",
       " 'average',\n",
       " 'bartlett',\n",
       " 'base_repr',\n",
       " 'binary_repr',\n",
       " 'bincount',\n",
       " 'bitwise_and',\n",
       " 'bitwise_not',\n",
       " 'bitwise_or',\n",
       " 'bitwise_xor',\n",
       " 'blackman',\n",
       " 'block',\n",
       " 'bmat',\n",
       " 'bool_',\n",
       " 'broadcast',\n",
       " 'broadcast_arrays',\n",
       " 'broadcast_shapes',\n",
       " 'broadcast_to',\n",
       " 'busday_count',\n",
       " 'busday_offset',\n",
       " 'busdaycalendar',\n",
       " 'byte',\n",
       " 'byte_bounds',\n",
       " 'bytes_',\n",
       " 'c_',\n",
       " 'can_cast',\n",
       " 'cast',\n",
       " 'cbrt',\n",
       " 'cdouble',\n",
       " 'ceil',\n",
       " 'cfloat',\n",
       " 'char',\n",
       " 'character',\n",
       " 'chararray',\n",
       " 'choose',\n",
       " 'clip',\n",
       " 'clongdouble',\n",
       " 'clongfloat',\n",
       " 'column_stack',\n",
       " 'common_type',\n",
       " 'compare_chararrays',\n",
       " 'compat',\n",
       " 'complex128',\n",
       " 'complex64',\n",
       " 'complex_',\n",
       " 'complexfloating',\n",
       " 'compress',\n",
       " 'concatenate',\n",
       " 'conj',\n",
       " 'conjugate',\n",
       " 'convolve',\n",
       " 'copy',\n",
       " 'copysign',\n",
       " 'copyto',\n",
       " 'corrcoef',\n",
       " 'correlate',\n",
       " 'cos',\n",
       " 'cosh',\n",
       " 'count_nonzero',\n",
       " 'cov',\n",
       " 'cross',\n",
       " 'csingle',\n",
       " 'ctypeslib',\n",
       " 'cumprod',\n",
       " 'cumproduct',\n",
       " 'cumsum',\n",
       " 'datetime64',\n",
       " 'datetime_as_string',\n",
       " 'datetime_data',\n",
       " 'deg2rad',\n",
       " 'degrees',\n",
       " 'delete',\n",
       " 'deprecate',\n",
       " 'deprecate_with_doc',\n",
       " 'diag',\n",
       " 'diag_indices',\n",
       " 'diag_indices_from',\n",
       " 'diagflat',\n",
       " 'diagonal',\n",
       " 'diff',\n",
       " 'digitize',\n",
       " 'disp',\n",
       " 'divide',\n",
       " 'divmod',\n",
       " 'dot',\n",
       " 'double',\n",
       " 'dsplit',\n",
       " 'dstack',\n",
       " 'dtype',\n",
       " 'dtypes',\n",
       " 'e',\n",
       " 'ediff1d',\n",
       " 'einsum',\n",
       " 'einsum_path',\n",
       " 'emath',\n",
       " 'empty',\n",
       " 'empty_like',\n",
       " 'equal',\n",
       " 'errstate',\n",
       " 'euler_gamma',\n",
       " 'exceptions',\n",
       " 'exp',\n",
       " 'exp2',\n",
       " 'expand_dims',\n",
       " 'expm1',\n",
       " 'extract',\n",
       " 'eye',\n",
       " 'fabs',\n",
       " 'fastCopyAndTranspose',\n",
       " 'fft',\n",
       " 'fill_diagonal',\n",
       " 'find_common_type',\n",
       " 'finfo',\n",
       " 'fix',\n",
       " 'flatiter',\n",
       " 'flatnonzero',\n",
       " 'flexible',\n",
       " 'flip',\n",
       " 'fliplr',\n",
       " 'flipud',\n",
       " 'float16',\n",
       " 'float32',\n",
       " 'float64',\n",
       " 'float_',\n",
       " 'float_power',\n",
       " 'floating',\n",
       " 'floor',\n",
       " 'floor_divide',\n",
       " 'fmax',\n",
       " 'fmin',\n",
       " 'fmod',\n",
       " 'format_float_positional',\n",
       " 'format_float_scientific',\n",
       " 'format_parser',\n",
       " 'frexp',\n",
       " 'from_dlpack',\n",
       " 'frombuffer',\n",
       " 'fromfile',\n",
       " 'fromfunction',\n",
       " 'fromiter',\n",
       " 'frompyfunc',\n",
       " 'fromregex',\n",
       " 'fromstring',\n",
       " 'full',\n",
       " 'full_like',\n",
       " 'gcd',\n",
       " 'generic',\n",
       " 'genfromtxt',\n",
       " 'geomspace',\n",
       " 'get_array_wrap',\n",
       " 'get_include',\n",
       " 'get_printoptions',\n",
       " 'getbufsize',\n",
       " 'geterr',\n",
       " 'geterrcall',\n",
       " 'geterrobj',\n",
       " 'gradient',\n",
       " 'greater',\n",
       " 'greater_equal',\n",
       " 'half',\n",
       " 'hamming',\n",
       " 'hanning',\n",
       " 'heaviside',\n",
       " 'histogram',\n",
       " 'histogram2d',\n",
       " 'histogram_bin_edges',\n",
       " 'histogramdd',\n",
       " 'hsplit',\n",
       " 'hstack',\n",
       " 'hypot',\n",
       " 'i0',\n",
       " 'identity',\n",
       " 'iinfo',\n",
       " 'imag',\n",
       " 'in1d',\n",
       " 'index_exp',\n",
       " 'indices',\n",
       " 'inexact',\n",
       " 'inf',\n",
       " 'info',\n",
       " 'infty',\n",
       " 'inner',\n",
       " 'insert',\n",
       " 'int16',\n",
       " 'int32',\n",
       " 'int64',\n",
       " 'int8',\n",
       " 'int_',\n",
       " 'intc',\n",
       " 'integer',\n",
       " 'interp',\n",
       " 'intersect1d',\n",
       " 'intp',\n",
       " 'invert',\n",
       " 'is_busday',\n",
       " 'isclose',\n",
       " 'iscomplex',\n",
       " 'iscomplexobj',\n",
       " 'isfinite',\n",
       " 'isfortran',\n",
       " 'isin',\n",
       " 'isinf',\n",
       " 'isnan',\n",
       " 'isnat',\n",
       " 'isneginf',\n",
       " 'isposinf',\n",
       " 'isreal',\n",
       " 'isrealobj',\n",
       " 'isscalar',\n",
       " 'issctype',\n",
       " 'issubclass_',\n",
       " 'issubdtype',\n",
       " 'issubsctype',\n",
       " 'iterable',\n",
       " 'ix_',\n",
       " 'kaiser',\n",
       " 'kron',\n",
       " 'lcm',\n",
       " 'ldexp',\n",
       " 'left_shift',\n",
       " 'less',\n",
       " 'less_equal',\n",
       " 'lexsort',\n",
       " 'lib',\n",
       " 'linalg',\n",
       " 'linspace',\n",
       " 'little_endian',\n",
       " 'load',\n",
       " 'loadtxt',\n",
       " 'log',\n",
       " 'log10',\n",
       " 'log1p',\n",
       " 'log2',\n",
       " 'logaddexp',\n",
       " 'logaddexp2',\n",
       " 'logical_and',\n",
       " 'logical_not',\n",
       " 'logical_or',\n",
       " 'logical_xor',\n",
       " 'logspace',\n",
       " 'longcomplex',\n",
       " 'longdouble',\n",
       " 'longfloat',\n",
       " 'longlong',\n",
       " 'lookfor',\n",
       " 'ma',\n",
       " 'mask_indices',\n",
       " 'mat',\n",
       " 'matmul',\n",
       " 'matrix',\n",
       " 'max',\n",
       " 'maximum',\n",
       " 'maximum_sctype',\n",
       " 'may_share_memory',\n",
       " 'mean',\n",
       " 'median',\n",
       " 'memmap',\n",
       " 'meshgrid',\n",
       " 'mgrid',\n",
       " 'min',\n",
       " 'min_scalar_type',\n",
       " 'minimum',\n",
       " 'mintypecode',\n",
       " 'mod',\n",
       " 'modf',\n",
       " 'moveaxis',\n",
       " 'msort',\n",
       " 'multiply',\n",
       " 'nan',\n",
       " 'nan_to_num',\n",
       " 'nanargmax',\n",
       " 'nanargmin',\n",
       " 'nancumprod',\n",
       " 'nancumsum',\n",
       " 'nanmax',\n",
       " 'nanmean',\n",
       " 'nanmedian',\n",
       " 'nanmin',\n",
       " 'nanpercentile',\n",
       " 'nanprod',\n",
       " 'nanquantile',\n",
       " 'nanstd',\n",
       " 'nansum',\n",
       " 'nanvar',\n",
       " 'nbytes',\n",
       " 'ndarray',\n",
       " 'ndenumerate',\n",
       " 'ndim',\n",
       " 'ndindex',\n",
       " 'nditer',\n",
       " 'negative',\n",
       " 'nested_iters',\n",
       " 'newaxis',\n",
       " 'nextafter',\n",
       " 'nonzero',\n",
       " 'not_equal',\n",
       " 'numarray',\n",
       " 'number',\n",
       " 'obj2sctype',\n",
       " 'object_',\n",
       " 'ogrid',\n",
       " 'oldnumeric',\n",
       " 'ones',\n",
       " 'ones_like',\n",
       " 'outer',\n",
       " 'packbits',\n",
       " 'pad',\n",
       " 'partition',\n",
       " 'percentile',\n",
       " 'pi',\n",
       " 'piecewise',\n",
       " 'place',\n",
       " 'poly',\n",
       " 'poly1d',\n",
       " 'polyadd',\n",
       " 'polyder',\n",
       " 'polydiv',\n",
       " 'polyfit',\n",
       " 'polyint',\n",
       " 'polymul',\n",
       " 'polynomial',\n",
       " 'polysub',\n",
       " 'polyval',\n",
       " 'positive',\n",
       " 'power',\n",
       " 'printoptions',\n",
       " 'prod',\n",
       " 'product',\n",
       " 'promote_types',\n",
       " 'ptp',\n",
       " 'put',\n",
       " 'put_along_axis',\n",
       " 'putmask',\n",
       " 'quantile',\n",
       " 'r_',\n",
       " 'rad2deg',\n",
       " 'radians',\n",
       " 'random',\n",
       " 'ravel',\n",
       " 'ravel_multi_index',\n",
       " 'real',\n",
       " 'real_if_close',\n",
       " 'rec',\n",
       " 'recarray',\n",
       " 'recfromcsv',\n",
       " 'recfromtxt',\n",
       " 'reciprocal',\n",
       " 'record',\n",
       " 'remainder',\n",
       " 'repeat',\n",
       " 'require',\n",
       " 'reshape',\n",
       " 'resize',\n",
       " 'result_type',\n",
       " 'right_shift',\n",
       " 'rint',\n",
       " 'roll',\n",
       " 'rollaxis',\n",
       " 'roots',\n",
       " 'rot90',\n",
       " 'round',\n",
       " 'round_',\n",
       " 'row_stack',\n",
       " 's_',\n",
       " 'safe_eval',\n",
       " 'save',\n",
       " 'savetxt',\n",
       " 'savez',\n",
       " 'savez_compressed',\n",
       " 'sctype2char',\n",
       " 'sctypeDict',\n",
       " 'sctypes',\n",
       " 'searchsorted',\n",
       " 'select',\n",
       " 'set_numeric_ops',\n",
       " 'set_printoptions',\n",
       " 'set_string_function',\n",
       " 'setbufsize',\n",
       " 'setdiff1d',\n",
       " 'seterr',\n",
       " 'seterrcall',\n",
       " 'seterrobj',\n",
       " 'setxor1d',\n",
       " 'shape',\n",
       " 'shares_memory',\n",
       " 'short',\n",
       " 'show_config',\n",
       " 'show_runtime',\n",
       " 'sign',\n",
       " 'signbit',\n",
       " 'signedinteger',\n",
       " 'sin',\n",
       " 'sinc',\n",
       " 'single',\n",
       " 'singlecomplex',\n",
       " 'sinh',\n",
       " 'size',\n",
       " 'sometrue',\n",
       " 'sort',\n",
       " 'sort_complex',\n",
       " 'source',\n",
       " 'spacing',\n",
       " 'split',\n",
       " 'sqrt',\n",
       " 'square',\n",
       " 'squeeze',\n",
       " 'stack',\n",
       " 'std',\n",
       " 'str_',\n",
       " 'string_',\n",
       " 'subtract',\n",
       " 'sum',\n",
       " 'swapaxes',\n",
       " 'take',\n",
       " 'take_along_axis',\n",
       " 'tan',\n",
       " 'tanh',\n",
       " 'tensordot',\n",
       " 'test',\n",
       " 'testing',\n",
       " 'tile',\n",
       " 'timedelta64',\n",
       " 'trace',\n",
       " 'tracemalloc_domain',\n",
       " 'transpose',\n",
       " 'trapz',\n",
       " 'tri',\n",
       " 'tril',\n",
       " 'tril_indices',\n",
       " 'tril_indices_from',\n",
       " 'trim_zeros',\n",
       " 'triu',\n",
       " 'triu_indices',\n",
       " 'triu_indices_from',\n",
       " 'true_divide',\n",
       " 'trunc',\n",
       " 'typecodes',\n",
       " 'typename',\n",
       " 'ubyte',\n",
       " 'ufunc',\n",
       " 'uint',\n",
       " 'uint16',\n",
       " 'uint32',\n",
       " 'uint64',\n",
       " 'uint8',\n",
       " 'uintc',\n",
       " 'uintp',\n",
       " 'ulonglong',\n",
       " 'unicode_',\n",
       " 'union1d',\n",
       " 'unique',\n",
       " 'unpackbits',\n",
       " 'unravel_index',\n",
       " 'unsignedinteger',\n",
       " 'unwrap',\n",
       " 'ushort',\n",
       " 'vander',\n",
       " 'var',\n",
       " 'vdot',\n",
       " 'vectorize',\n",
       " 'version',\n",
       " 'void',\n",
       " 'vsplit',\n",
       " 'vstack',\n",
       " 'where',\n",
       " 'who',\n",
       " 'zeros',\n",
       " 'zeros_like']"
      ]
     },
     "execution_count": 2,
     "metadata": {},
     "output_type": "execute_result"
    }
   ],
   "source": [
    "dir(np) # fonksiyonlarini gormek icin "
   ]
  },
  {
   "cell_type": "code",
   "execution_count": 2,
   "metadata": {},
   "outputs": [
    {
     "name": "stdout",
     "output_type": "stream",
     "text": [
      "1.26.4\n"
     ]
    }
   ],
   "source": [
    "print(np.__version__)"
   ]
  },
  {
   "cell_type": "code",
   "execution_count": 2,
   "metadata": {},
   "outputs": [
    {
     "name": "stdout",
     "output_type": "stream",
     "text": [
      "Requirement already satisfied: numpy in c:\\users\\fatih yavuz\\appdata\\local\\programs\\python\\python312\\lib\\site-packages (1.26.4)\n",
      "Collecting numpy\n",
      "  Downloading numpy-2.0.1-cp312-cp312-win_amd64.whl.metadata (60 kB)\n",
      "     ---------------------------------------- 0.0/60.9 kB ? eta -:--:--\n",
      "     ------ --------------------------------- 10.2/60.9 kB ? eta -:--:--\n",
      "     ------------------- ------------------ 30.7/60.9 kB 262.6 kB/s eta 0:00:01\n",
      "     ------------------------------- ------ 51.2/60.9 kB 375.8 kB/s eta 0:00:01\n",
      "     -------------------------------------- 60.9/60.9 kB 324.7 kB/s eta 0:00:00\n",
      "Downloading numpy-2.0.1-cp312-cp312-win_amd64.whl (16.3 MB)\n",
      "   ---------------------------------------- 0.0/16.3 MB ? eta -:--:--\n",
      "   ---------------------------------------- 0.1/16.3 MB 3.2 MB/s eta 0:00:06\n",
      "    --------------------------------------- 0.3/16.3 MB 3.2 MB/s eta 0:00:06\n",
      "   - -------------------------------------- 0.6/16.3 MB 4.3 MB/s eta 0:00:04\n",
      "   -- ------------------------------------- 0.9/16.3 MB 4.6 MB/s eta 0:00:04\n",
      "   -- ------------------------------------- 1.1/16.3 MB 5.2 MB/s eta 0:00:03\n",
      "   --- ------------------------------------ 1.5/16.3 MB 5.4 MB/s eta 0:00:03\n",
      "   ---- ----------------------------------- 1.7/16.3 MB 5.3 MB/s eta 0:00:03\n",
      "   ---- ----------------------------------- 1.9/16.3 MB 5.4 MB/s eta 0:00:03\n",
      "   ----- ---------------------------------- 2.2/16.3 MB 5.5 MB/s eta 0:00:03\n",
      "   ------ --------------------------------- 2.5/16.3 MB 5.5 MB/s eta 0:00:03\n",
      "   ------ --------------------------------- 2.8/16.3 MB 5.5 MB/s eta 0:00:03\n",
      "   ------- -------------------------------- 3.1/16.3 MB 5.7 MB/s eta 0:00:03\n",
      "   -------- ------------------------------- 3.4/16.3 MB 5.6 MB/s eta 0:00:03\n",
      "   -------- ------------------------------- 3.6/16.3 MB 5.7 MB/s eta 0:00:03\n",
      "   -------- ------------------------------- 3.6/16.3 MB 5.2 MB/s eta 0:00:03\n",
      "   ---------- ----------------------------- 4.2/16.3 MB 5.6 MB/s eta 0:00:03\n",
      "   ----------- ---------------------------- 4.5/16.3 MB 5.7 MB/s eta 0:00:03\n",
      "   ----------- ---------------------------- 4.8/16.3 MB 5.5 MB/s eta 0:00:03\n",
      "   ------------ --------------------------- 5.1/16.3 MB 5.7 MB/s eta 0:00:02\n",
      "   ------------ --------------------------- 5.1/16.3 MB 5.5 MB/s eta 0:00:03\n",
      "   ------------ --------------------------- 5.1/16.3 MB 5.5 MB/s eta 0:00:03\n",
      "   ------------ --------------------------- 5.1/16.3 MB 5.5 MB/s eta 0:00:03\n",
      "   --------------- ------------------------ 6.1/16.3 MB 5.6 MB/s eta 0:00:02\n",
      "   --------------- ------------------------ 6.4/16.3 MB 5.7 MB/s eta 0:00:02\n",
      "   --------------- ------------------------ 6.4/16.3 MB 5.7 MB/s eta 0:00:02\n",
      "   --------------- ------------------------ 6.4/16.3 MB 5.7 MB/s eta 0:00:02\n",
      "   ----------------- ---------------------- 7.0/16.3 MB 5.5 MB/s eta 0:00:02\n",
      "   ------------------ --------------------- 7.4/16.3 MB 5.6 MB/s eta 0:00:02\n",
      "   ------------------- -------------------- 7.8/16.3 MB 5.7 MB/s eta 0:00:02\n",
      "   ------------------- -------------------- 8.1/16.3 MB 5.6 MB/s eta 0:00:02\n",
      "   -------------------- ------------------- 8.4/16.3 MB 5.6 MB/s eta 0:00:02\n",
      "   --------------------- ------------------ 8.7/16.3 MB 5.7 MB/s eta 0:00:02\n",
      "   ---------------------- ----------------- 9.0/16.3 MB 5.7 MB/s eta 0:00:02\n",
      "   ---------------------- ----------------- 9.3/16.3 MB 5.7 MB/s eta 0:00:02\n",
      "   ----------------------- ---------------- 9.6/16.3 MB 5.7 MB/s eta 0:00:02\n",
      "   ------------------------ --------------- 9.9/16.3 MB 5.7 MB/s eta 0:00:02\n",
      "   ------------------------ --------------- 10.1/16.3 MB 5.7 MB/s eta 0:00:02\n",
      "   ------------------------- -------------- 10.4/16.3 MB 5.8 MB/s eta 0:00:02\n",
      "   ------------------------- -------------- 10.5/16.3 MB 5.8 MB/s eta 0:00:01\n",
      "   ------------------------- -------------- 10.5/16.3 MB 5.8 MB/s eta 0:00:01\n",
      "   --------------------------- ------------ 11.2/16.3 MB 5.8 MB/s eta 0:00:01\n",
      "   ---------------------------- ----------- 11.4/16.3 MB 5.8 MB/s eta 0:00:01\n",
      "   ---------------------------- ----------- 11.6/16.3 MB 5.8 MB/s eta 0:00:01\n",
      "   ----------------------------- ---------- 11.9/16.3 MB 5.8 MB/s eta 0:00:01\n",
      "   ------------------------------ --------- 12.2/16.3 MB 5.7 MB/s eta 0:00:01\n",
      "   ------------------------------ --------- 12.3/16.3 MB 5.6 MB/s eta 0:00:01\n",
      "   ------------------------------ --------- 12.5/16.3 MB 5.6 MB/s eta 0:00:01\n",
      "   ------------------------------- -------- 12.9/16.3 MB 5.7 MB/s eta 0:00:01\n",
      "   -------------------------------- ------- 13.1/16.3 MB 5.6 MB/s eta 0:00:01\n",
      "   --------------------------------- ------ 13.4/16.3 MB 5.7 MB/s eta 0:00:01\n",
      "   --------------------------------- ------ 13.7/16.3 MB 5.6 MB/s eta 0:00:01\n",
      "   ---------------------------------- ----- 14.0/16.3 MB 5.7 MB/s eta 0:00:01\n",
      "   ----------------------------------- ---- 14.3/16.3 MB 5.7 MB/s eta 0:00:01\n",
      "   ----------------------------------- ---- 14.6/16.3 MB 5.7 MB/s eta 0:00:01\n",
      "   ------------------------------------ --- 14.9/16.3 MB 5.7 MB/s eta 0:00:01\n",
      "   ------------------------------------- -- 15.2/16.3 MB 5.6 MB/s eta 0:00:01\n",
      "   -------------------------------------- - 15.5/16.3 MB 6.2 MB/s eta 0:00:01\n",
      "   -------------------------------------- - 15.8/16.3 MB 6.0 MB/s eta 0:00:01\n",
      "   ---------------------------------------  16.0/16.3 MB 5.8 MB/s eta 0:00:01\n",
      "   ---------------------------------------  16.3/16.3 MB 5.8 MB/s eta 0:00:01\n",
      "   ---------------------------------------  16.3/16.3 MB 5.8 MB/s eta 0:00:01\n",
      "   ---------------------------------------- 16.3/16.3 MB 5.5 MB/s eta 0:00:00\n",
      "Installing collected packages: numpy\n",
      "  Attempting uninstall: numpy\n",
      "    Found existing installation: numpy 1.26.4\n",
      "    Uninstalling numpy-1.26.4:\n",
      "      Successfully uninstalled numpy-1.26.4\n",
      "Successfully installed numpy-2.0.1\n",
      "Note: you may need to restart the kernel to use updated packages.\n"
     ]
    },
    {
     "name": "stderr",
     "output_type": "stream",
     "text": [
      "  WARNING: Failed to remove contents in a temporary directory 'C:\\Users\\Fatih YAVUZ\\AppData\\Local\\Programs\\Python\\Python312\\Lib\\site-packages\\~umpy.libs'.\n",
      "  You can safely remove it manually.\n",
      "  WARNING: Failed to remove contents in a temporary directory 'C:\\Users\\Fatih YAVUZ\\AppData\\Local\\Programs\\Python\\Python312\\Lib\\site-packages\\~umpy'.\n",
      "  You can safely remove it manually.\n",
      "\n",
      "[notice] A new release of pip is available: 24.0 -> 24.1.2\n",
      "[notice] To update, run: python.exe -m pip install --upgrade pip\n"
     ]
    }
   ],
   "source": [
    "pip install --upgrade numpy # versiyon guncelleme"
   ]
  },
  {
   "cell_type": "code",
   "execution_count": 4,
   "metadata": {},
   "outputs": [
    {
     "name": "stdout",
     "output_type": "stream",
     "text": [
      "\n",
      "NumPy\n",
      "=====\n",
      "\n",
      "Provides\n",
      "  1. An array object of arbitrary homogeneous items\n",
      "  2. Fast mathematical operations over arrays\n",
      "  3. Linear Algebra, Fourier Transforms, Random Number Generation\n",
      "\n",
      "How to use the documentation\n",
      "----------------------------\n",
      "Documentation is available in two forms: docstrings provided\n",
      "with the code, and a loose standing reference guide, available from\n",
      "`the NumPy homepage <https://numpy.org>`_.\n",
      "\n",
      "We recommend exploring the docstrings using\n",
      "`IPython <https://ipython.org>`_, an advanced Python shell with\n",
      "TAB-completion and introspection capabilities.  See below for further\n",
      "instructions.\n",
      "\n",
      "The docstring examples assume that `numpy` has been imported as ``np``::\n",
      "\n",
      "  >>> import numpy as np\n",
      "\n",
      "Code snippets are indicated by three greater-than signs::\n",
      "\n",
      "  >>> x = 42\n",
      "  >>> x = x + 1\n",
      "\n",
      "Use the built-in ``help`` function to view a function's docstring::\n",
      "\n",
      "  >>> help(np.sort)\n",
      "  ... # doctest: +SKIP\n",
      "\n",
      "For some objects, ``np.info(obj)`` may provide additional help.  This is\n",
      "particularly true if you see the line \"Help on ufunc object:\" at the top\n",
      "of the help() page.  Ufuncs are implemented in C, not Python, for speed.\n",
      "The native Python help() does not know how to view their help, but our\n",
      "np.info() function does.\n",
      "\n",
      "To search for documents containing a keyword, do::\n",
      "\n",
      "  >>> np.lookfor('keyword')\n",
      "  ... # doctest: +SKIP\n",
      "\n",
      "General-purpose documents like a glossary and help on the basic concepts\n",
      "of numpy are available under the ``doc`` sub-module::\n",
      "\n",
      "  >>> from numpy import doc\n",
      "  >>> help(doc)\n",
      "  ... # doctest: +SKIP\n",
      "\n",
      "Available subpackages\n",
      "---------------------\n",
      "lib\n",
      "    Basic functions used by several sub-packages.\n",
      "random\n",
      "    Core Random Tools\n",
      "linalg\n",
      "    Core Linear Algebra Tools\n",
      "fft\n",
      "    Core FFT routines\n",
      "polynomial\n",
      "    Polynomial tools\n",
      "testing\n",
      "    NumPy testing tools\n",
      "distutils\n",
      "    Enhancements to distutils with support for\n",
      "    Fortran compilers support and more  (for Python <= 3.11).\n",
      "\n",
      "Utilities\n",
      "---------\n",
      "test\n",
      "    Run numpy unittests\n",
      "show_config\n",
      "    Show numpy build configuration\n",
      "matlib\n",
      "    Make everything matrices.\n",
      "__version__\n",
      "    NumPy version string\n",
      "\n",
      "Viewing documentation using IPython\n",
      "-----------------------------------\n",
      "\n",
      "Start IPython and import `numpy` usually under the alias ``np``: `import\n",
      "numpy as np`.  Then, directly past or use the ``%cpaste`` magic to paste\n",
      "examples into the shell.  To see which functions are available in `numpy`,\n",
      "type ``np.<TAB>`` (where ``<TAB>`` refers to the TAB key), or use\n",
      "``np.*cos*?<ENTER>`` (where ``<ENTER>`` refers to the ENTER key) to narrow\n",
      "down the list.  To view the docstring for a function, use\n",
      "``np.cos?<ENTER>`` (to view the docstring) and ``np.cos??<ENTER>`` (to view\n",
      "the source code).\n",
      "\n",
      "Copies vs. in-place operation\n",
      "-----------------------------\n",
      "Most of the functions in `numpy` return a copy of the array argument\n",
      "(e.g., `np.sort`).  In-place versions of these functions are often\n",
      "available as array methods, i.e. ``x = np.array([1,2,3]); x.sort()``.\n",
      "Exceptions to this rule are documented.\n",
      "\n",
      "\n"
     ]
    }
   ],
   "source": [
    "print(np.__doc__) # dokumanlarini gormek icin "
   ]
  },
  {
   "cell_type": "markdown",
   "metadata": {},
   "source": [
    "## array()"
   ]
  },
  {
   "cell_type": "code",
   "execution_count": 5,
   "metadata": {},
   "outputs": [
    {
     "data": {
      "text/plain": [
       "[1, 2, 3, 4]"
      ]
     },
     "execution_count": 5,
     "metadata": {},
     "output_type": "execute_result"
    }
   ],
   "source": [
    "my_list = [1,2,3,4]\n",
    "my_list"
   ]
  },
  {
   "cell_type": "code",
   "execution_count": 6,
   "metadata": {},
   "outputs": [
    {
     "data": {
      "text/plain": [
       "array([1, 2, 3, 4])"
      ]
     },
     "execution_count": 6,
     "metadata": {},
     "output_type": "execute_result"
    }
   ],
   "source": [
    "np.array(my_list)"
   ]
  },
  {
   "cell_type": "code",
   "execution_count": 8,
   "metadata": {},
   "outputs": [
    {
     "data": {
      "text/plain": [
       "array([1. , 2. , 3. , 4. , 5. , 6. , 7.5])"
      ]
     },
     "execution_count": 8,
     "metadata": {},
     "output_type": "execute_result"
    }
   ],
   "source": [
    "np.array([1,2,3,4,5,6,7.5]) # hepsini float a cevirdi cunku arrayler tek tip veri tutar"
   ]
  },
  {
   "cell_type": "code",
   "execution_count": 9,
   "metadata": {},
   "outputs": [
    {
     "data": {
      "text/plain": [
       "array(['1', 'ali', '4'], dtype='<U11')"
      ]
     },
     "execution_count": 9,
     "metadata": {},
     "output_type": "execute_result"
    }
   ],
   "source": [
    "np.array([1,\"ali\",4])"
   ]
  },
  {
   "cell_type": "code",
   "execution_count": 11,
   "metadata": {},
   "outputs": [
    {
     "data": {
      "text/plain": [
       "array([1., 2., 3.])"
      ]
     },
     "execution_count": 11,
     "metadata": {},
     "output_type": "execute_result"
    }
   ],
   "source": [
    "np.array([1,2,3], dtype= float)  # dtype lari degistirebiliriz "
   ]
  },
  {
   "cell_type": "code",
   "execution_count": 13,
   "metadata": {},
   "outputs": [
    {
     "data": {
      "text/plain": [
       "array([1, 3, 4])"
      ]
     },
     "execution_count": 13,
     "metadata": {},
     "output_type": "execute_result"
    }
   ],
   "source": [
    "np.array([1.2,3.4,4.5], dtype= int)"
   ]
  },
  {
   "cell_type": "code",
   "execution_count": 17,
   "metadata": {},
   "outputs": [
    {
     "data": {
      "text/plain": [
       "array([[1, 2, 3, 4]])"
      ]
     },
     "execution_count": 17,
     "metadata": {},
     "output_type": "execute_result"
    }
   ],
   "source": [
    "np.array([[1,2],[3,4]])"
   ]
  },
  {
   "cell_type": "code",
   "execution_count": 20,
   "metadata": {},
   "outputs": [],
   "source": [
    "my_list2 = [[1,2,3],[7,8,9],[10,11,12],[1,2,3]]"
   ]
  },
  {
   "cell_type": "code",
   "execution_count": 21,
   "metadata": {},
   "outputs": [
    {
     "data": {
      "text/plain": [
       "array([[ 1,  2,  3],\n",
       "       [ 7,  8,  9],\n",
       "       [10, 11, 12],\n",
       "       [ 1,  2,  3]])"
      ]
     },
     "execution_count": 21,
     "metadata": {},
     "output_type": "execute_result"
    }
   ],
   "source": [
    "np.array(my_list2)"
   ]
  },
  {
   "cell_type": "code",
   "execution_count": 22,
   "metadata": {},
   "outputs": [],
   "source": [
    "my_list3 = [[1,2,3],[7,8,9],[10,11,12],[1,2]]"
   ]
  },
  {
   "cell_type": "code",
   "execution_count": 23,
   "metadata": {},
   "outputs": [
    {
     "ename": "ValueError",
     "evalue": "setting an array element with a sequence. The requested array has an inhomogeneous shape after 1 dimensions. The detected shape was (4,) + inhomogeneous part.",
     "output_type": "error",
     "traceback": [
      "\u001b[1;31m---------------------------------------------------------------------------\u001b[0m",
      "\u001b[1;31mValueError\u001b[0m                                Traceback (most recent call last)",
      "Cell \u001b[1;32mIn[23], line 1\u001b[0m\n\u001b[1;32m----> 1\u001b[0m \u001b[43mnp\u001b[49m\u001b[38;5;241;43m.\u001b[39;49m\u001b[43marray\u001b[49m\u001b[43m(\u001b[49m\u001b[43mmy_list3\u001b[49m\u001b[43m)\u001b[49m\n",
      "\u001b[1;31mValueError\u001b[0m: setting an array element with a sequence. The requested array has an inhomogeneous shape after 1 dimensions. The detected shape was (4,) + inhomogeneous part."
     ]
    }
   ],
   "source": [
    "np.array(my_list3) # sutunlar esit eleman icermeli"
   ]
  },
  {
   "cell_type": "code",
   "execution_count": 24,
   "metadata": {},
   "outputs": [],
   "source": [
    "my_list4 = [   [ [  1,2,3  ],[ 4,5,6 ]   ]   ]"
   ]
  },
  {
   "cell_type": "code",
   "execution_count": 27,
   "metadata": {},
   "outputs": [
    {
     "data": {
      "text/plain": [
       "array([[[1, 2, 3],\n",
       "        [4, 5, 6]]])"
      ]
     },
     "execution_count": 27,
     "metadata": {},
     "output_type": "execute_result"
    }
   ],
   "source": [
    "np.array(my_list4)"
   ]
  },
  {
   "cell_type": "markdown",
   "metadata": {},
   "source": [
    "### shape() & reshape()"
   ]
  },
  {
   "cell_type": "code",
   "execution_count": 28,
   "metadata": {},
   "outputs": [],
   "source": [
    "my_arr = np.array(my_list2)"
   ]
  },
  {
   "cell_type": "code",
   "execution_count": 29,
   "metadata": {},
   "outputs": [
    {
     "data": {
      "text/plain": [
       "(4, 3)"
      ]
     },
     "execution_count": 29,
     "metadata": {},
     "output_type": "execute_result"
    }
   ],
   "source": [
    "my_arr.shape # 2 boyutlu"
   ]
  },
  {
   "cell_type": "code",
   "execution_count": 30,
   "metadata": {},
   "outputs": [
    {
     "data": {
      "text/plain": [
       "(3,)"
      ]
     },
     "execution_count": 30,
     "metadata": {},
     "output_type": "execute_result"
    }
   ],
   "source": [
    "np.array([1,2,3]).shape # tek boyutlu"
   ]
  },
  {
   "cell_type": "code",
   "execution_count": 31,
   "metadata": {},
   "outputs": [
    {
     "data": {
      "text/plain": [
       "(1, 2, 3)"
      ]
     },
     "execution_count": 31,
     "metadata": {},
     "output_type": "execute_result"
    }
   ],
   "source": [
    "np.array(my_list4).shape # 3 boyutlu"
   ]
  },
  {
   "cell_type": "code",
   "execution_count": 32,
   "metadata": {},
   "outputs": [
    {
     "data": {
      "text/plain": [
       "array([[ 1,  2],\n",
       "       [ 3,  7],\n",
       "       [ 8,  9],\n",
       "       [10, 11],\n",
       "       [12,  1],\n",
       "       [ 2,  3]])"
      ]
     },
     "execution_count": 32,
     "metadata": {},
     "output_type": "execute_result"
    }
   ],
   "source": [
    "my_arr.reshape(6,2)"
   ]
  },
  {
   "cell_type": "code",
   "execution_count": 35,
   "metadata": {},
   "outputs": [
    {
     "ename": "ValueError",
     "evalue": "cannot reshape array of size 12 into shape (3,5)",
     "output_type": "error",
     "traceback": [
      "\u001b[1;31m---------------------------------------------------------------------------\u001b[0m",
      "\u001b[1;31mValueError\u001b[0m                                Traceback (most recent call last)",
      "Cell \u001b[1;32mIn[35], line 1\u001b[0m\n\u001b[1;32m----> 1\u001b[0m \u001b[43mmy_arr\u001b[49m\u001b[38;5;241;43m.\u001b[39;49m\u001b[43mreshape\u001b[49m\u001b[43m(\u001b[49m\u001b[38;5;241;43m3\u001b[39;49m\u001b[43m,\u001b[49m\u001b[38;5;241;43m5\u001b[39;49m\u001b[43m)\u001b[49m\n",
      "\u001b[1;31mValueError\u001b[0m: cannot reshape array of size 12 into shape (3,5)"
     ]
    }
   ],
   "source": [
    "my_arr.reshape(3,5) #cannot reshape array of size 12 into shape (3,5)"
   ]
  },
  {
   "cell_type": "code",
   "execution_count": 36,
   "metadata": {},
   "outputs": [
    {
     "ename": "ValueError",
     "evalue": "cannot reshape array of size 12 into shape (3,3)",
     "output_type": "error",
     "traceback": [
      "\u001b[1;31m---------------------------------------------------------------------------\u001b[0m",
      "\u001b[1;31mValueError\u001b[0m                                Traceback (most recent call last)",
      "Cell \u001b[1;32mIn[36], line 1\u001b[0m\n\u001b[1;32m----> 1\u001b[0m \u001b[43mmy_arr\u001b[49m\u001b[38;5;241;43m.\u001b[39;49m\u001b[43mreshape\u001b[49m\u001b[43m(\u001b[49m\u001b[38;5;241;43m3\u001b[39;49m\u001b[43m,\u001b[49m\u001b[38;5;241;43m3\u001b[39;49m\u001b[43m)\u001b[49m\n",
      "\u001b[1;31mValueError\u001b[0m: cannot reshape array of size 12 into shape (3,3)"
     ]
    }
   ],
   "source": [
    "my_arr.reshape(3,3) # cannot reshape array of size 12 into shape (3,3)"
   ]
  },
  {
   "cell_type": "code",
   "execution_count": 37,
   "metadata": {},
   "outputs": [
    {
     "data": {
      "text/plain": [
       "array([[ 1,  2,  3,  7],\n",
       "       [ 8,  9, 10, 11],\n",
       "       [12,  1,  2,  3]])"
      ]
     },
     "execution_count": 37,
     "metadata": {},
     "output_type": "execute_result"
    }
   ],
   "source": [
    "my_arr.reshape(3,-1) # 3 tane satir olsun kac tane sutun gerekiyorsa o kendi olustursun "
   ]
  },
  {
   "cell_type": "code",
   "execution_count": 38,
   "metadata": {},
   "outputs": [
    {
     "data": {
      "text/plain": [
       "array([[ 1,  2,  3,  7],\n",
       "       [ 8,  9, 10, 11],\n",
       "       [12,  1,  2,  3]])"
      ]
     },
     "execution_count": 38,
     "metadata": {},
     "output_type": "execute_result"
    }
   ],
   "source": [
    "my_arr.reshape(-1,4)"
   ]
  },
  {
   "cell_type": "markdown",
   "metadata": {},
   "source": [
    "## ndim & ndmin"
   ]
  },
  {
   "cell_type": "code",
   "execution_count": null,
   "metadata": {},
   "outputs": [],
   "source": [
    "my_list2 = [[1,2,3],[7,8,9],[10,11,12],[1,2,3]]"
   ]
  },
  {
   "cell_type": "code",
   "execution_count": 39,
   "metadata": {},
   "outputs": [
    {
     "data": {
      "text/plain": [
       "array([[ 1,  2,  3],\n",
       "       [ 7,  8,  9],\n",
       "       [10, 11, 12],\n",
       "       [ 1,  2,  3]])"
      ]
     },
     "execution_count": 39,
     "metadata": {},
     "output_type": "execute_result"
    }
   ],
   "source": [
    "my_arr = np.array(my_list2)\n",
    "my_arr"
   ]
  },
  {
   "cell_type": "code",
   "execution_count": 40,
   "metadata": {},
   "outputs": [
    {
     "data": {
      "text/plain": [
       "2"
      ]
     },
     "execution_count": 40,
     "metadata": {},
     "output_type": "execute_result"
    }
   ],
   "source": [
    "my_arr.ndim # ndim bir arrayin kac boyutlu olduunu gosterir"
   ]
  },
  {
   "cell_type": "code",
   "execution_count": 41,
   "metadata": {},
   "outputs": [
    {
     "data": {
      "text/plain": [
       "1"
      ]
     },
     "execution_count": 41,
     "metadata": {},
     "output_type": "execute_result"
    }
   ],
   "source": [
    "np.array([1,2,3]).ndim"
   ]
  },
  {
   "cell_type": "code",
   "execution_count": 42,
   "metadata": {},
   "outputs": [],
   "source": [
    "lii = [[[1,2,3],[1,2,3],[1,2,3],[1,2,3]]]"
   ]
  },
  {
   "cell_type": "code",
   "execution_count": 43,
   "metadata": {},
   "outputs": [
    {
     "data": {
      "text/plain": [
       "3"
      ]
     },
     "execution_count": 43,
     "metadata": {},
     "output_type": "execute_result"
    }
   ],
   "source": [
    "np.array(lii).ndim"
   ]
  },
  {
   "cell_type": "code",
   "execution_count": null,
   "metadata": {},
   "outputs": [],
   "source": []
  },
  {
   "cell_type": "code",
   "execution_count": null,
   "metadata": {},
   "outputs": [],
   "source": []
  },
  {
   "cell_type": "code",
   "execution_count": null,
   "metadata": {},
   "outputs": [],
   "source": []
  },
  {
   "cell_type": "code",
   "execution_count": null,
   "metadata": {},
   "outputs": [],
   "source": []
  }
 ],
 "metadata": {
  "kernelspec": {
   "display_name": "Python 3",
   "language": "python",
   "name": "python3"
  },
  "language_info": {
   "codemirror_mode": {
    "name": "ipython",
    "version": 3
   },
   "file_extension": ".py",
   "mimetype": "text/x-python",
   "name": "python",
   "nbconvert_exporter": "python",
   "pygments_lexer": "ipython3",
   "version": "3.12.3"
  }
 },
 "nbformat": 4,
 "nbformat_minor": 2
}
